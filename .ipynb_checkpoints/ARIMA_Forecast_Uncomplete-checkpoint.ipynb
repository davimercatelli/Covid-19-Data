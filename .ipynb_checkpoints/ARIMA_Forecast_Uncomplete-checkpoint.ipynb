{
 "cells": [
  {
   "cell_type": "markdown",
   "metadata": {},
   "source": [
    "# Using Python tools for a analysis of COVID-19 data"
   ]
  },
  {
   "cell_type": "markdown",
   "metadata": {},
   "source": [
    "# ARIMA method to forecast"
   ]
  },
  {
   "cell_type": "markdown",
   "metadata": {},
   "source": [
    "#### Source: https://www.digitalocean.com/community/tutorials/a-guide-to-time-series-forecasting-with-arima-in-python-3"
   ]
  },
  {
   "cell_type": "code",
   "execution_count": 1,
   "metadata": {},
   "outputs": [],
   "source": [
    "import warnings\n",
    "import itertools\n",
    "import pandas as pd\n",
    "import numpy as np\n",
    "import statsmodels.api as sm\n",
    "\n",
    "import matplotlib as mpl\n",
    "import matplotlib.pyplot as plt\n",
    "import matplotlib.dates as mdates\n",
    "import matplotlib.ticker as ticker\n",
    "\n",
    "from sklearn.preprocessing import MinMaxScaler"
   ]
  },
  {
   "cell_type": "code",
   "execution_count": 2,
   "metadata": {},
   "outputs": [],
   "source": [
    "mpl.rcParams['font.size'] = 15.0"
   ]
  },
  {
   "cell_type": "code",
   "execution_count": 3,
   "metadata": {},
   "outputs": [],
   "source": [
    "pd.set_option(\"display.precision\", 5)\n",
    "pd.set_option('display.max_rows', 15)"
   ]
  },
  {
   "cell_type": "markdown",
   "metadata": {},
   "source": [
    "### <span style=\"color:red\">Analysis of the last N days</span>"
   ]
  },
  {
   "cell_type": "code",
   "execution_count": 4,
   "metadata": {},
   "outputs": [],
   "source": [
    "Ndays = '150days'"
   ]
  },
  {
   "cell_type": "markdown",
   "metadata": {},
   "source": [
    "### <span style=\"color:red\">Day range for matplotlib</span>"
   ]
  },
  {
   "cell_type": "code",
   "execution_count": 5,
   "metadata": {},
   "outputs": [],
   "source": [
    "Ninterval = 7"
   ]
  },
  {
   "cell_type": "code",
   "execution_count": 6,
   "metadata": {},
   "outputs": [],
   "source": [
    "# url = 'https://covid.ourworldindata.org/data/owid-covid-data.csv'"
   ]
  },
  {
   "cell_type": "code",
   "execution_count": 7,
   "metadata": {},
   "outputs": [],
   "source": [
    "filename = '/home/davi/Documents/Python/Covid-19-Data/owid-covid-data.csv'"
   ]
  },
  {
   "cell_type": "code",
   "execution_count": 8,
   "metadata": {},
   "outputs": [],
   "source": [
    "# df = pd.read_csv(url)\n",
    "df = pd.read_csv(filename)\n",
    "df['date'] = pd.to_datetime(df['date'])\n",
    "df['location'] = df['location'].replace(['United States'],'United_States')\n",
    "df['location'] = df['location'].replace(['United Kingdom'],'United_Kingdom')"
   ]
  },
  {
   "cell_type": "code",
   "execution_count": 9,
   "metadata": {},
   "outputs": [],
   "source": [
    "df = df.loc[:,['date', 'location', 'total_cases', 'total_deaths', 'new_cases', 'new_deaths']]\n",
    "df = df[df['date'] > pd.to_datetime(\"today\") - pd.to_timedelta(Ndays)]\n",
    "df = df.sort_values(by=['total_cases'], ascending=True)"
   ]
  },
  {
   "cell_type": "markdown",
   "metadata": {},
   "source": [
    "# Number of cases and deaths in World"
   ]
  },
  {
   "cell_type": "code",
   "execution_count": 10,
   "metadata": {},
   "outputs": [
    {
     "data": {
      "text/html": [
       "<div>\n",
       "<style scoped>\n",
       "    .dataframe tbody tr th:only-of-type {\n",
       "        vertical-align: middle;\n",
       "    }\n",
       "\n",
       "    .dataframe tbody tr th {\n",
       "        vertical-align: top;\n",
       "    }\n",
       "\n",
       "    .dataframe thead th {\n",
       "        text-align: right;\n",
       "    }\n",
       "</style>\n",
       "<table border=\"1\" class=\"dataframe\">\n",
       "  <thead>\n",
       "    <tr style=\"text-align: right;\">\n",
       "      <th></th>\n",
       "      <th>date</th>\n",
       "      <th>total_cases</th>\n",
       "      <th>total_deaths</th>\n",
       "      <th>new_cases</th>\n",
       "      <th>new_deaths</th>\n",
       "    </tr>\n",
       "  </thead>\n",
       "  <tbody>\n",
       "    <tr>\n",
       "      <th>0</th>\n",
       "      <td>2020-03-28</td>\n",
       "      <td>622656.0</td>\n",
       "      <td>27793.0</td>\n",
       "      <td>64970.0</td>\n",
       "      <td>3481.0</td>\n",
       "    </tr>\n",
       "    <tr>\n",
       "      <th>1</th>\n",
       "      <td>2020-03-29</td>\n",
       "      <td>685566.0</td>\n",
       "      <td>31350.0</td>\n",
       "      <td>62910.0</td>\n",
       "      <td>3557.0</td>\n",
       "    </tr>\n",
       "    <tr>\n",
       "      <th>2</th>\n",
       "      <td>2020-03-30</td>\n",
       "      <td>742914.0</td>\n",
       "      <td>34541.0</td>\n",
       "      <td>57348.0</td>\n",
       "      <td>3191.0</td>\n",
       "    </tr>\n",
       "    <tr>\n",
       "      <th>3</th>\n",
       "      <td>2020-03-31</td>\n",
       "      <td>807330.0</td>\n",
       "      <td>38524.0</td>\n",
       "      <td>64416.0</td>\n",
       "      <td>3983.0</td>\n",
       "    </tr>\n",
       "    <tr>\n",
       "      <th>4</th>\n",
       "      <td>2020-04-01</td>\n",
       "      <td>881932.0</td>\n",
       "      <td>43166.0</td>\n",
       "      <td>74602.0</td>\n",
       "      <td>4642.0</td>\n",
       "    </tr>\n",
       "    <tr>\n",
       "      <th>...</th>\n",
       "      <td>...</td>\n",
       "      <td>...</td>\n",
       "      <td>...</td>\n",
       "      <td>...</td>\n",
       "      <td>...</td>\n",
       "    </tr>\n",
       "    <tr>\n",
       "      <th>145</th>\n",
       "      <td>2020-08-20</td>\n",
       "      <td>22440556.0</td>\n",
       "      <td>787802.0</td>\n",
       "      <td>280994.0</td>\n",
       "      <td>6539.0</td>\n",
       "    </tr>\n",
       "    <tr>\n",
       "      <th>146</th>\n",
       "      <td>2020-08-21</td>\n",
       "      <td>22716727.0</td>\n",
       "      <td>794146.0</td>\n",
       "      <td>276171.0</td>\n",
       "      <td>6344.0</td>\n",
       "    </tr>\n",
       "    <tr>\n",
       "      <th>147</th>\n",
       "      <td>2020-08-22</td>\n",
       "      <td>22970240.0</td>\n",
       "      <td>800060.0</td>\n",
       "      <td>253513.0</td>\n",
       "      <td>5914.0</td>\n",
       "    </tr>\n",
       "    <tr>\n",
       "      <th>148</th>\n",
       "      <td>2020-08-23</td>\n",
       "      <td>23236330.0</td>\n",
       "      <td>805690.0</td>\n",
       "      <td>266090.0</td>\n",
       "      <td>5630.0</td>\n",
       "    </tr>\n",
       "    <tr>\n",
       "      <th>149</th>\n",
       "      <td>2020-08-24</td>\n",
       "      <td>23441581.0</td>\n",
       "      <td>809422.0</td>\n",
       "      <td>205251.0</td>\n",
       "      <td>3732.0</td>\n",
       "    </tr>\n",
       "  </tbody>\n",
       "</table>\n",
       "<p>150 rows × 5 columns</p>\n",
       "</div>"
      ],
      "text/plain": [
       "          date  total_cases  total_deaths  new_cases  new_deaths\n",
       "0   2020-03-28     622656.0       27793.0    64970.0      3481.0\n",
       "1   2020-03-29     685566.0       31350.0    62910.0      3557.0\n",
       "2   2020-03-30     742914.0       34541.0    57348.0      3191.0\n",
       "3   2020-03-31     807330.0       38524.0    64416.0      3983.0\n",
       "4   2020-04-01     881932.0       43166.0    74602.0      4642.0\n",
       "..         ...          ...           ...        ...         ...\n",
       "145 2020-08-20   22440556.0      787802.0   280994.0      6539.0\n",
       "146 2020-08-21   22716727.0      794146.0   276171.0      6344.0\n",
       "147 2020-08-22   22970240.0      800060.0   253513.0      5914.0\n",
       "148 2020-08-23   23236330.0      805690.0   266090.0      5630.0\n",
       "149 2020-08-24   23441581.0      809422.0   205251.0      3732.0\n",
       "\n",
       "[150 rows x 5 columns]"
      ]
     },
     "execution_count": 10,
     "metadata": {},
     "output_type": "execute_result"
    }
   ],
   "source": [
    "dfWorld = df[df['location'] == 'World']\n",
    "dfWorld = dfWorld.sort_values(by='date', ascending=True)\n",
    "dfWorld = dfWorld.loc[:,['date', 'total_cases', 'total_deaths', 'new_cases', 'new_deaths']]\n",
    "dfWorld.reset_index(drop=True, inplace=True)\n",
    "dfWorld"
   ]
  },
  {
   "cell_type": "code",
   "execution_count": 11,
   "metadata": {},
   "outputs": [
    {
     "data": {
      "image/png": "[encoded data removed]",
      "text/plain": [
       "<Figure size 1382.4x777.6 with 2 Axes>"
      ]
     },
     "metadata": {
      "needs_background": "light"
     },
     "output_type": "display_data"
    }
   ],
   "source": [
    "fig, ax1 = plt.subplots(figsize=(19.20,10.80))\n",
    "\n",
    "color = 'tab:blue'\n",
    "ax1.plot(dfWorld.date, dfWorld.total_cases, color=color, label='Total Cases')\n",
    "ax1.set_xlabel('Date')\n",
    "ax1.set_ylabel('Total Cases', color=color)\n",
    "ax1.tick_params(axis='y', labelcolor=color)\n",
    "plt.ticklabel_format(style='plain', axis='y')\n",
    "plt.grid()\n",
    "ax2 = ax1.twinx()\n",
    "\n",
    "color = 'tab:red'\n",
    "ax2.plot(dfWorld.date, dfWorld.total_deaths, color=color, label = 'Total Deaths')\n",
    "ax2.set_xlabel('Date')\n",
    "ax2.set_ylabel('Total Deaths', color=color)\n",
    "ax2.tick_params(axis='y', labelcolor=color)\n",
    "\n",
    "plt.ticklabel_format(style='plain', axis='y', scilimits=(0,0))\n",
    "\n",
    "ax = plt.gca()\n",
    "ax.xaxis.set_major_locator(mdates.DayLocator(interval=Ninterval))\n",
    "ax.xaxis.set_major_formatter(mdates.DateFormatter('%m-%d'))\n",
    "\n",
    "ax1.yaxis.set_major_formatter(ticker.FuncFormatter(lambda y, pos: '{:,.2f}'.format(y/1000000) + 'M'))\n",
    "ax2.yaxis.set_major_formatter(ticker.FuncFormatter(lambda y, pos: '{:,.2f}'.format(y/1000000) + 'M'))\n",
    "plt.gcf().autofmt_xdate()\n",
    "\n",
    "fig.legend(loc=\"upper left\", bbox_to_anchor=(0,1), bbox_transform=ax.transAxes)\n",
    "\n",
    "plt.show()"
   ]
  },
  {
   "cell_type": "code",
   "execution_count": 12,
   "metadata": {},
   "outputs": [],
   "source": [
    "y = dfWorld.loc[:,['date','total_cases']]\n",
    "y = y.set_index('date')"
   ]
  },
  {
   "cell_type": "code",
   "execution_count": 13,
   "metadata": {},
   "outputs": [],
   "source": [
    "p = d = q = range(0, 2)"
   ]
  },
  {
   "cell_type": "code",
   "execution_count": 14,
   "metadata": {},
   "outputs": [],
   "source": [
    "pdq = list(itertools.product(p, d, q))"
   ]
  },
  {
   "cell_type": "code",
   "execution_count": 15,
   "metadata": {},
   "outputs": [],
   "source": [
    "seasonal_pdq = [(x[0], x[1], x[2], 12) for x in list(itertools.product(p, d, q))]"
   ]
  },
  {
   "cell_type": "code",
   "execution_count": 16,
   "metadata": {},
   "outputs": [
    {
     "name": "stdout",
     "output_type": "stream",
     "text": [
      "ARIMA(0, 0, 0)x(0, 0, 0, 12)12 - AIC:5263.234885515589\n",
      "ARIMA(0, 0, 0)x(0, 0, 1, 12)12 - AIC:4770.412251073825\n",
      "ARIMA(0, 0, 0)x(0, 1, 0, 12)12 - AIC:4369.646923102686\n",
      "ARIMA(0, 0, 0)x(0, 1, 1, 12)12 - AIC:3928.4330728841064\n",
      "ARIMA(0, 0, 0)x(1, 0, 0, 12)12 - AIC:3973.251384295985\n",
      "ARIMA(0, 0, 0)x(1, 0, 1, 12)12 - AIC:3849.5308189720618\n",
      "ARIMA(0, 0, 0)x(1, 1, 0, 12)12 - AIC:3393.9644472032505\n",
      "ARIMA(0, 0, 0)x(1, 1, 1, 12)12 - AIC:3353.4808997587616\n",
      "ARIMA(0, 0, 1)x(0, 0, 0, 12)12 - AIC:5121.7103590069655\n",
      "ARIMA(0, 0, 1)x(0, 0, 1, 12)12 - AIC:13747703.46158276\n",
      "ARIMA(0, 0, 1)x(0, 1, 0, 12)12 - AIC:4240.975243175775\n",
      "ARIMA(0, 0, 1)x(0, 1, 1, 12)12 - AIC:3964.938303961647\n",
      "ARIMA(0, 0, 1)x(1, 0, 0, 12)12 - AIC:4743.233365036263\n",
      "ARIMA(0, 0, 1)x(1, 0, 1, 12)12 - AIC:5025.721408582974\n",
      "ARIMA(0, 0, 1)x(1, 1, 0, 12)12 - AIC:3898.3846082177542\n",
      "ARIMA(0, 0, 1)x(1, 1, 1, 12)12 - AIC:3838.569245644814\n",
      "ARIMA(0, 1, 0)x(0, 0, 0, 12)12 - AIC:3987.9896589139366\n",
      "ARIMA(0, 1, 0)x(0, 0, 1, 12)12 - AIC:3597.729228303864\n",
      "ARIMA(0, 1, 0)x(0, 1, 0, 12)12 - AIC:3228.4182438775088\n",
      "ARIMA(0, 1, 0)x(0, 1, 1, 12)12 - AIC:2953.635036060242\n",
      "ARIMA(0, 1, 0)x(1, 0, 0, 12)12 - AIC:3230.6412471334165\n",
      "ARIMA(0, 1, 0)x(1, 0, 1, 12)12 - AIC:3209.8263441914028\n",
      "ARIMA(0, 1, 0)x(1, 1, 0, 12)12 - AIC:2974.4218181134906\n",
      "ARIMA(0, 1, 0)x(1, 1, 1, 12)12 - AIC:2948.3211681491503\n",
      "ARIMA(0, 1, 1)x(0, 0, 0, 12)12 - AIC:3856.596507905251\n",
      "ARIMA(0, 1, 1)x(0, 0, 1, 12)12 - AIC:3521.9662574091117\n",
      "ARIMA(0, 1, 1)x(0, 1, 0, 12)12 - AIC:3143.3071087351145\n",
      "ARIMA(0, 1, 1)x(0, 1, 1, 12)12 - AIC:2862.406929071112\n",
      "ARIMA(0, 1, 1)x(1, 0, 0, 12)12 - AIC:3753.5975696052665\n",
      "ARIMA(0, 1, 1)x(1, 0, 1, 12)12 - AIC:3510.9127615052703\n",
      "ARIMA(0, 1, 1)x(1, 1, 0, 12)12 - AIC:2907.568149146489\n",
      "ARIMA(0, 1, 1)x(1, 1, 1, 12)12 - AIC:2864.385937911406\n",
      "ARIMA(1, 0, 0)x(0, 0, 0, 12)12 - AIC:3598.8507346629867\n",
      "ARIMA(1, 0, 0)x(0, 0, 1, 12)12 - AIC:6437.637388522981\n",
      "ARIMA(1, 0, 0)x(0, 1, 0, 12)12 - AIC:3220.631539636379\n",
      "ARIMA(1, 0, 0)x(0, 1, 1, 12)12 - AIC:4704.527707136962\n",
      "ARIMA(1, 0, 0)x(1, 0, 0, 12)12 - AIC:3241.6701525979743\n",
      "ARIMA(1, 0, 0)x(1, 0, 1, 12)12 - AIC:6197.403164872175\n",
      "ARIMA(1, 0, 0)x(1, 1, 0, 12)12 - AIC:2948.4369575912165\n",
      "ARIMA(1, 0, 0)x(1, 1, 1, 12)12 - AIC:2947.4590862573345\n",
      "ARIMA(1, 0, 1)x(0, 0, 0, 12)12 - AIC:3475.661522822322\n",
      "ARIMA(1, 0, 1)x(0, 0, 1, 12)12 - AIC:6259.50907236923\n",
      "ARIMA(1, 0, 1)x(0, 1, 0, 12)12 - AIC:3165.8420771830656\n",
      "ARIMA(1, 0, 1)x(0, 1, 1, 12)12 - AIC:4446.1914577564285\n",
      "ARIMA(1, 0, 1)x(1, 0, 0, 12)12 - AIC:3213.5164021302435\n",
      "ARIMA(1, 0, 1)x(1, 0, 1, 12)12 - AIC:5942.855623101571\n",
      "ARIMA(1, 0, 1)x(1, 1, 0, 12)12 - AIC:2896.2931132321423\n",
      "ARIMA(1, 0, 1)x(1, 1, 1, 12)12 - AIC:3982.713612537036\n",
      "ARIMA(1, 1, 0)x(0, 0, 0, 12)12 - AIC:3334.7092193757653\n",
      "ARIMA(1, 1, 0)x(0, 0, 1, 12)12 - AIC:3058.4791148580234\n",
      "ARIMA(1, 1, 0)x(0, 1, 0, 12)12 - AIC:3157.800562436452\n",
      "ARIMA(1, 1, 0)x(0, 1, 1, 12)12 - AIC:2872.9790284177425\n",
      "ARIMA(1, 1, 0)x(1, 0, 0, 12)12 - AIC:3066.715025170366\n",
      "ARIMA(1, 1, 0)x(1, 0, 1, 12)12 - AIC:3060.4762022231716\n",
      "ARIMA(1, 1, 0)x(1, 1, 0, 12)12 - AIC:2874.1283684543573\n",
      "ARIMA(1, 1, 0)x(1, 1, 1, 12)12 - AIC:2871.0178541098294\n",
      "ARIMA(1, 1, 1)x(0, 0, 0, 12)12 - AIC:3310.9701338573122\n",
      "ARIMA(1, 1, 1)x(0, 0, 1, 12)12 - AIC:3037.2481741542897\n",
      "ARIMA(1, 1, 1)x(0, 1, 0, 12)12 - AIC:3122.1791458612333\n",
      "ARIMA(1, 1, 1)x(0, 1, 1, 12)12 - AIC:2841.7600841895387\n",
      "ARIMA(1, 1, 1)x(1, 0, 0, 12)12 - AIC:3066.123461867399\n",
      "ARIMA(1, 1, 1)x(1, 0, 1, 12)12 - AIC:3039.1910763897904\n",
      "ARIMA(1, 1, 1)x(1, 1, 0, 12)12 - AIC:2868.0631656662504\n",
      "ARIMA(1, 1, 1)x(1, 1, 1, 12)12 - AIC:2839.6539155651185\n"
     ]
    }
   ],
   "source": [
    "warnings.filterwarnings(\"ignore\")\n",
    "for param in pdq:\n",
    "    for param_seasonal in seasonal_pdq:\n",
    "        try:\n",
    "            mod = sm.tsa.statespace.SARIMAX(y,\n",
    "                                            order=param,\n",
    "                                            seasonal_order=param_seasonal,\n",
    "                                            enforce_stationarity=False,\n",
    "                                            enforce_invertibility=False)\n",
    "\n",
    "            results = mod.fit()\n",
    "            print('ARIMA{}x{}12 - AIC:{}'.format(param, param_seasonal, results.aic))\n",
    "        except:\n",
    "            print('FAIL')\n",
    "            continue"
   ]
  },
  {
   "cell_type": "code",
   "execution_count": 17,
   "metadata": {},
   "outputs": [
    {
     "name": "stdout",
     "output_type": "stream",
     "text": [
      "==============================================================================\n",
      "                 coef    std err          z      P>|z|      [0.025      0.975]\n",
      "------------------------------------------------------------------------------\n",
      "ar.L1          0.7293      0.077      9.437      0.000       0.578       0.881\n",
      "ma.L1          0.2960      0.085      3.490      0.000       0.130       0.462\n",
      "ar.S.L12      -0.3435      0.142     -2.418      0.016      -0.622      -0.065\n",
      "ma.S.L12      -0.1422      0.087     -1.641      0.101      -0.312       0.028\n",
      "sigma2      6.099e+08   2.32e-11   2.63e+19      0.000     6.1e+08     6.1e+08\n",
      "==============================================================================\n"
     ]
    }
   ],
   "source": [
    "mod = sm.tsa.statespace.SARIMAX(y,\n",
    "                               order=(1,1,1),\n",
    "                               seasonal_order=(1,1,1,12),\n",
    "                               enforce_stationarity=False,\n",
    "                               enforce_invertibility=False)\n",
    "results = mod.fit()\n",
    "print(results.summary().tables[1])"
   ]
  },
  {
   "cell_type": "code",
   "execution_count": 18,
   "metadata": {},
   "outputs": [
    {
     "data": {
      "image/png": "[encoded data removed]",
      "text/plain": [
       "<Figure size 1080x864 with 4 Axes>"
      ]
     },
     "metadata": {
      "needs_background": "light"
     },
     "output_type": "display_data"
    }
   ],
   "source": [
    "results.plot_diagnostics(figsize=(15,12))\n",
    "plt.show()"
   ]
  },
  {
   "cell_type": "code",
   "execution_count": 19,
   "metadata": {},
   "outputs": [],
   "source": [
    "pred = results.get_prediction(start=pd.to_datetime('2020-07-15'), dynamic=False)\n",
    "pred_ci = pred.conf_int()"
   ]
  },
  {
   "cell_type": "code",
   "execution_count": 20,
   "metadata": {},
   "outputs": [],
   "source": [
    "y_forecasted = pred.predicted_mean\n",
    "y_truth = y['2020-07-15':]"
   ]
  },
  {
   "cell_type": "code",
   "execution_count": 24,
   "metadata": {},
   "outputs": [],
   "source": [
    "stepsFuture = 60"
   ]
  },
  {
   "cell_type": "code",
   "execution_count": 25,
   "metadata": {},
   "outputs": [],
   "source": [
    "pred_uc = results.get_forecast(steps=stepsFuture)\n",
    "pred_ci = pred_uc.conf_int()"
   ]
  },
  {
   "cell_type": "markdown",
   "metadata": {},
   "source": [
    "### Forecast to total cases of COVID-19 in World for the next 60 days"
   ]
  },
  {
   "cell_type": "code",
   "execution_count": 26,
   "metadata": {},
   "outputs": [
    {
     "data": {
      "image/png": "[encoded data removed]",
      "text/plain": [
       "<Figure size 1382.4x777.6 with 1 Axes>"
      ]
     },
     "metadata": {
      "needs_background": "light"
     },
     "output_type": "display_data"
    }
   ],
   "source": [
    "ax = y.plot(label='observed', figsize=(19.20, 10.80))\n",
    "pred_uc.predicted_mean.plot(ax=ax, label='Forecast')\n",
    "ax.fill_between(pred_ci.index,\n",
    "                pred_ci.iloc[:, 0],\n",
    "                pred_ci.iloc[:, 1], color='k', alpha=.25)\n",
    "\n",
    "\n",
    "ax.tick_params(axis='y')\n",
    "plt.ticklabel_format(style='plain', axis='y')\n",
    "\n",
    "ax.set_xlabel('Date')\n",
    "ax.set_ylabel('Daily Deaths')\n",
    "\n",
    "ax = plt.gca()\n",
    "ax.xaxis.set_major_locator(mdates.DayLocator(interval=Ninterval))\n",
    "ax.xaxis.set_major_formatter(mdates.DateFormatter('%m-%d'))\n",
    "plt.gcf().autofmt_xdate()\n",
    "\n",
    "ax.yaxis.set_major_formatter(ticker.FuncFormatter(lambda y, pos: '{:,.0f}'.format(y/1000000) + 'M'))\n",
    "\n",
    "plt.grid()\n",
    "plt.legend()\n",
    "plt.show()"
   ]
  },
  {
   "cell_type": "code",
   "execution_count": 23,
   "metadata": {},
   "outputs": [
    {
     "ename": "NameError",
     "evalue": "name 'xxxxxxxxx' is not defined",
     "output_type": "error",
     "traceback": [
      "\u001b[0;31m---------------------------------------------------------------------------\u001b[0m",
      "\u001b[0;31mNameError\u001b[0m                                 Traceback (most recent call last)",
      "\u001b[0;32m<ipython-input-23-0cb489d9ef68>\u001b[0m in \u001b[0;36m<module>\u001b[0;34m\u001b[0m\n\u001b[0;32m----> 1\u001b[0;31m \u001b[0mxxxxxxxxx\u001b[0m\u001b[0;34m\u001b[0m\u001b[0;34m\u001b[0m\u001b[0m\n\u001b[0m",
      "\u001b[0;31mNameError\u001b[0m: name 'xxxxxxxxx' is not defined"
     ]
    }
   ],
   "source": [
    "xxxxxxxxx"
   ]
  },
  {
   "cell_type": "code",
   "execution_count": null,
   "metadata": {},
   "outputs": [],
   "source": []
  },
  {
   "cell_type": "code",
   "execution_count": null,
   "metadata": {},
   "outputs": [],
   "source": []
  },
  {
   "cell_type": "code",
   "execution_count": null,
   "metadata": {},
   "outputs": [],
   "source": []
  },
  {
   "cell_type": "markdown",
   "metadata": {},
   "source": [
    "###  Daily deaths [WORLD]"
   ]
  },
  {
   "cell_type": "code",
   "execution_count": null,
   "metadata": {},
   "outputs": [],
   "source": [
    "dfWorld.plot(x='date', y='new_deaths', figsize=(19.20,10.80))\n",
    "\n",
    "plt.ylabel('Daily deaths')\n",
    "plt.title('Daily deaths [WORLD]')\n",
    "\n",
    "ax = plt.gca()\n",
    "ax.xaxis.set_major_locator(mdates.DayLocator(interval=Ninterval))\n",
    "ax.xaxis.set_major_formatter(mdates.DateFormatter('%m-%d'))\n",
    "plt.ticklabel_format(style='plain', axis='y', scilimits=(0,0))\n",
    "plt.gcf().autofmt_xdate()\n",
    "\n",
    "ax.yaxis.set_major_formatter(ticker.FuncFormatter(lambda y, pos: '{:,.1f}'.format(y/1000) + 'k'))\n",
    "\n",
    "plt.grid()\n",
    "plt.show()"
   ]
  },
  {
   "cell_type": "code",
   "execution_count": null,
   "metadata": {},
   "outputs": [],
   "source": [
    "# y = dfWorld.loc[:,['date','new_deaths']]\n",
    "# y = y.set_index('date')\n",
    "# y"
   ]
  },
  {
   "cell_type": "code",
   "execution_count": null,
   "metadata": {},
   "outputs": [],
   "source": []
  },
  {
   "cell_type": "markdown",
   "metadata": {},
   "source": [
    "### Daily cases [WORLD]"
   ]
  },
  {
   "cell_type": "code",
   "execution_count": null,
   "metadata": {},
   "outputs": [],
   "source": [
    "dfWorld.plot(x='date', y='new_cases', figsize=(19.20,10.80))\n",
    "\n",
    "plt.ylabel('Daily Cases')\n",
    "plt.title('Daily Cases [WORLD]')\n",
    "\n",
    "ax = plt.gca()\n",
    "ax.xaxis.set_major_locator(mdates.DayLocator(interval=Ninterval))\n",
    "ax.xaxis.set_major_formatter(mdates.DateFormatter('%m-%d'))\n",
    "plt.ticklabel_format(style='plain', axis='y', scilimits=(0,0))\n",
    "plt.gcf().autofmt_xdate()\n",
    "\n",
    "ax.yaxis.set_major_formatter(ticker.FuncFormatter(lambda y, pos: '{:,.1f}'.format(y/1000) + 'k'))\n",
    "\n",
    "plt.grid()\n",
    "plt.show()"
   ]
  },
  {
   "cell_type": "code",
   "execution_count": null,
   "metadata": {},
   "outputs": [],
   "source": [
    "dfFilter = df.loc[:,['date', 'location', 'total_cases', 'total_deaths']]\n",
    "dfFilter = dfFilter[\n",
    "        (df['location'] != 'World') &\n",
    "        (df['location'] != 'International')\n",
    "]"
   ]
  },
  {
   "cell_type": "code",
   "execution_count": null,
   "metadata": {},
   "outputs": [],
   "source": [
    "dfToday = dfFilter[dfFilter['date'] == dfFilter['date'].max()]"
   ]
  },
  {
   "cell_type": "code",
   "execution_count": null,
   "metadata": {},
   "outputs": [],
   "source": [
    "sumCases = dfToday.groupby(['location']).sum()\n",
    "sumCases.reset_index(level=0, inplace=True)\n",
    "sumCases.loc[sumCases['total_cases'] <= 500000, ['location']] = 'Other_Countries'"
   ]
  },
  {
   "cell_type": "markdown",
   "metadata": {},
   "source": [
    "#### <span style=\"color:green\">Countries with less than 500k cases are grouped under \"Other_Countries\"</span>"
   ]
  },
  {
   "cell_type": "code",
   "execution_count": null,
   "metadata": {},
   "outputs": [],
   "source": [
    "sumCases = sumCases.groupby(['location']).sum()\n",
    "sumCases = sumCases.sort_values(by=['total_cases'], ascending=False)\n",
    "sumCases"
   ]
  },
  {
   "cell_type": "code",
   "execution_count": null,
   "metadata": {},
   "outputs": [],
   "source": [
    "x = sumCases.index\n",
    "y = sumCases.total_cases\n",
    "\n",
    "porcent = 100.*y/y.sum()\n",
    "fig = plt.figure(figsize=(10.20,5.80))\n",
    "patches, texts = plt.pie(y, startangle=90, radius=1.2)\n",
    "labels = ['{0} - {1:1.2f} %'.format(i,j) for i,j in zip(x, porcent)]\n",
    "\n",
    "sort_legend = True\n",
    "if sort_legend:\n",
    "    patches, labels, dummy =  zip(*sorted(zip(patches, labels, y),\n",
    "                                          key=lambda x: x[2],\n",
    "                                          reverse=True))\n",
    "\n",
    "plt.legend(patches, labels, loc='center right', bbox_to_anchor=(-0.1, 1.), fontsize=14)\n",
    "plt.title('Total Cases by countries', fontsize=25, y=1.1)\n",
    "plt.show()"
   ]
  },
  {
   "cell_type": "markdown",
   "metadata": {},
   "source": [
    "#### USA has 25% of all cases of COVID-19 in the world"
   ]
  },
  {
   "cell_type": "markdown",
   "metadata": {},
   "source": [
    "##  COVID-19 cases and deaths in the most affected countries"
   ]
  },
  {
   "cell_type": "code",
   "execution_count": null,
   "metadata": {},
   "outputs": [],
   "source": []
  },
  {
   "cell_type": "markdown",
   "metadata": {},
   "source": [
    "#### <span style=\"color:red\">Selecting Countries by the following conditions: 50k total cases and 35k deaths</span> "
   ]
  },
  {
   "cell_type": "code",
   "execution_count": null,
   "metadata": {},
   "outputs": [],
   "source": [
    "numberCases = 50000\n",
    "numberDeaths = 35000"
   ]
  },
  {
   "cell_type": "code",
   "execution_count": null,
   "metadata": {},
   "outputs": [],
   "source": [
    "mainCountries = df[\n",
    "        (df['total_cases'] >= numberCases) & \n",
    "        (df['total_deaths'] >= numberDeaths) &\n",
    "        (df['location'] != 'World') &\n",
    "        (df['location'] != 'International')\n",
    "]\n",
    "mainCountries = mainCountries.sort_values(by=['total_cases'], ascending=False)\n",
    "mainCountries = mainCountries.dropna()\n",
    "mainCountries"
   ]
  },
  {
   "cell_type": "code",
   "execution_count": null,
   "metadata": {},
   "outputs": [],
   "source": [
    "dfCountry = mainCountries['location'].astype(str).unique()\n",
    "pd.DataFrame(dfCountry)"
   ]
  },
  {
   "cell_type": "code",
   "execution_count": null,
   "metadata": {},
   "outputs": [],
   "source": [
    "d = {}\n",
    "for index in range(len(dfCountry)):\n",
    "    d[index] = df[df['location'] == dfCountry[index]]\n",
    "    d[index].reset_index(drop=True, inplace=True)"
   ]
  },
  {
   "cell_type": "code",
   "execution_count": null,
   "metadata": {},
   "outputs": [],
   "source": [
    "totalCases_list=[]\n",
    "totalDeaths_list=[]\n",
    "newCases_list=[]\n",
    "newDeaths_list=[]\n",
    "\n",
    "for index in range(len(dfCountry)):  \n",
    "    \n",
    "    totalCases = [d[index]['total_cases']]\n",
    "    totalDeaths = [d[index]['total_deaths']]\n",
    "    newCases = [d[index]['new_cases']]\n",
    "    newDeaths = [d[index]['new_deaths']]\n",
    "    \n",
    "    header = [dfCountry[index]]\n",
    "    \n",
    "    totalCases = pd.concat(totalCases, axis=1, keys=header)\n",
    "    totalDeaths = pd.concat(totalDeaths, axis=1, keys=header)\n",
    "    newCases = pd.concat(newCases, axis=1, keys=header)\n",
    "    newDeaths = pd.concat(newDeaths, axis=1, keys=header)\n",
    "    \n",
    "    totalCases_list.append(totalCases)\n",
    "    totalDeaths_list.append(totalDeaths)\n",
    "    newCases_list.append(newCases)\n",
    "    newDeaths_list.append(newDeaths)"
   ]
  },
  {
   "cell_type": "code",
   "execution_count": null,
   "metadata": {},
   "outputs": [],
   "source": [
    "timestamps = sorted(set(dfWorld.loc[:, 'date'].values))"
   ]
  },
  {
   "cell_type": "code",
   "execution_count": null,
   "metadata": {},
   "outputs": [],
   "source": [
    "dfTotalCases=[]\n",
    "dfTotalDeaths=[]\n",
    "dfNewCases=[]\n",
    "dfNewDeaths=[]\n",
    "\n",
    "for index in range(len(dfCountry)):\n",
    "    dfTotalCases = pd.concat(totalCases_list, axis=1)\n",
    "    dfTotalDeaths = pd.concat(totalDeaths_list, axis=1)\n",
    "    dfNewCases = pd.concat(newCases_list, axis=1)\n",
    "    dfNewDeaths = pd.concat(newDeaths_list,axis=1)\n",
    "    \n",
    "dfTotalCases.insert(0, 'date', timestamps)\n",
    "dfTotalDeaths.insert(0, 'date', timestamps)\n",
    "dfNewCases.insert(0, 'date', timestamps)\n",
    "dfNewDeaths.insert(0, 'date', timestamps)"
   ]
  },
  {
   "cell_type": "markdown",
   "metadata": {},
   "source": [
    "### <ins>Total cases</ins> in the most affected countries"
   ]
  },
  {
   "cell_type": "code",
   "execution_count": null,
   "metadata": {},
   "outputs": [],
   "source": [
    "dfTotalCases.sort_values(by=['date'], ascending=True)"
   ]
  },
  {
   "cell_type": "code",
   "execution_count": null,
   "metadata": {},
   "outputs": [],
   "source": [
    "dfTotalCases.plot(x='date', y=dfCountry, figsize=(19.20,10.80))\n",
    "\n",
    "plt.ylabel('Number of Cases')\n",
    "plt.title('Total cases in the most affected countries')\n",
    "\n",
    "ax = plt.gca()\n",
    "ax.xaxis.set_major_locator(mdates.DayLocator(interval=Ninterval))\n",
    "ax.xaxis.set_major_formatter(mdates.DateFormatter('%m-%d'))\n",
    "plt.ticklabel_format(style='plain', axis='y', scilimits=(0,0))\n",
    "plt.gcf().autofmt_xdate()\n",
    "\n",
    "ax.yaxis.set_major_formatter(ticker.FuncFormatter(lambda y, pos: '{:,.1f}'.format(y/1000000) + 'M'))\n",
    "\n",
    "plt.grid()\n",
    "plt.show()"
   ]
  },
  {
   "cell_type": "markdown",
   "metadata": {},
   "source": [
    "#### Log analysis - log<sub>b</sub><sup>x</sup>"
   ]
  },
  {
   "cell_type": "code",
   "execution_count": null,
   "metadata": {},
   "outputs": [],
   "source": [
    "dfTotalCases.plot(x='date', y=dfCountry, logx=False, logy=True, figsize=(19.20,10.80))\n",
    "\n",
    "plt.ylabel('Number of Cases')\n",
    "plt.title('Log analysis in the most affected countries [Total Cases]')\n",
    "\n",
    "ax = plt.gca()\n",
    "ax.xaxis.set_major_locator(mdates.DayLocator(interval=Ninterval))\n",
    "ax.xaxis.set_major_formatter(mdates.DateFormatter('%m-%d'))\n",
    "plt.gcf().autofmt_xdate()\n",
    "\n",
    "plt.grid()\n",
    "plt.show()"
   ]
  },
  {
   "cell_type": "markdown",
   "metadata": {},
   "source": [
    "### <ins>Total Deaths</ins> in the most affected countries"
   ]
  },
  {
   "cell_type": "code",
   "execution_count": null,
   "metadata": {},
   "outputs": [],
   "source": [
    "dfTotalDeaths.sort_values(by=['date'], ascending=True)"
   ]
  },
  {
   "cell_type": "code",
   "execution_count": null,
   "metadata": {},
   "outputs": [],
   "source": [
    "dfTotalDeaths.plot(x='date', y=dfCountry, figsize=(19.20,10.80))\n",
    "\n",
    "plt.ylabel('Number of Deaths')\n",
    "plt.title('Total Deaths in the most affected countries')\n",
    "\n",
    "ax = plt.gca()\n",
    "ax.xaxis.set_major_locator(mdates.DayLocator(interval=Ninterval))\n",
    "ax.xaxis.set_major_formatter(mdates.DateFormatter('%m-%d'))\n",
    "plt.ticklabel_format(style='plain', axis='y', scilimits=(0,0))\n",
    "\n",
    "ax.yaxis.set_major_formatter(ticker.FuncFormatter(lambda y, pos: '{:,.0f}'.format(y/1000) + 'k'))\n",
    "\n",
    "plt.gcf().autofmt_xdate()\n",
    "\n",
    "plt.grid()\n",
    "plt.show()"
   ]
  },
  {
   "cell_type": "markdown",
   "metadata": {},
   "source": [
    "#### Log analysis - log<sub>b</sub><sup>x</sup>"
   ]
  },
  {
   "cell_type": "code",
   "execution_count": null,
   "metadata": {},
   "outputs": [],
   "source": [
    "dfTotalDeaths.plot(x='date', y=dfCountry, logx=False, logy=True, figsize=(19.20,10.80))\n",
    "\n",
    "plt.ylabel('Number of deaths')\n",
    "plt.title('Log analysis in the most affected countries [Total Deaths]')\n",
    "\n",
    "ax = plt.gca()\n",
    "ax.xaxis.set_major_locator(mdates.DayLocator(interval=Ninterval))\n",
    "ax.xaxis.set_major_formatter(mdates.DateFormatter('%m-%d'))\n",
    "plt.gcf().autofmt_xdate()\n",
    "\n",
    "plt.grid()\n",
    "plt.show()"
   ]
  },
  {
   "cell_type": "markdown",
   "metadata": {},
   "source": [
    "### Total cases and deaths by country"
   ]
  },
  {
   "cell_type": "code",
   "execution_count": null,
   "metadata": {
    "scrolled": false
   },
   "outputs": [],
   "source": [
    "for index in range(1, len(dfCountry)+1,1):\n",
    "    fig, ax1 = plt.subplots(figsize=(19.20,10.80))\n",
    "    color = 'tab:blue'\n",
    "    ax1.plot(dfTotalCases.date, dfTotalCases.iloc[:,index], color=color, label='Total Cases')\n",
    "    ax1.set_xlabel('Date')\n",
    "    ax1.set_ylabel('Total Cases', color=color)\n",
    "    plt.title(dfCountry[index-1], fontsize=20)\n",
    "    ax1.tick_params(axis='y', labelcolor=color)\n",
    "    plt.ticklabel_format(style='plain', axis='y')\n",
    "    \n",
    "    plt.grid()\n",
    "    \n",
    "    ax2 = ax1.twinx()\n",
    "\n",
    "    color = 'tab:red'\n",
    "    ax2.plot(dfTotalDeaths.date, dfTotalDeaths.iloc[:,index], color=color, label = 'Total Deaths')\n",
    "    ax2.set_xlabel('Date')\n",
    "    ax2.set_ylabel('Total Deaths', color=color)\n",
    "    ax2.tick_params(axis='y', labelcolor=color)\n",
    "\n",
    "    plt.ticklabel_format(style='plain', axis='y', scilimits=(0,0))\n",
    "    \n",
    "    ax1.yaxis.set_major_formatter(ticker.FuncFormatter(lambda y, pos: '{:,.2f}'.format(y/1000000) + 'M'))\n",
    "    ax2.yaxis.set_major_formatter(ticker.FuncFormatter(lambda y, pos: '{:,.0f}'.format(y/1000) + 'K'))\n",
    "\n",
    "    ax = plt.gca()\n",
    "    ax.xaxis.set_major_locator(mdates.DayLocator(interval=Ninterval))\n",
    "    ax.xaxis.set_major_formatter(mdates.DateFormatter('%m-%d'))\n",
    "\n",
    "    plt.gcf().autofmt_xdate()\n",
    "    plt.show()"
   ]
  },
  {
   "cell_type": "markdown",
   "metadata": {},
   "source": [
    "### <ins>Daily Cases</ins> in the most affected countries"
   ]
  },
  {
   "cell_type": "code",
   "execution_count": null,
   "metadata": {},
   "outputs": [],
   "source": [
    "dfNewCases.sort_values(by=['date'], ascending=True)"
   ]
  },
  {
   "cell_type": "code",
   "execution_count": null,
   "metadata": {},
   "outputs": [],
   "source": [
    "# dfNewCases.plot(x='date', y=dfCountry, figsize=(19.20,10.80))\n",
    "\n",
    "# plt.ylabel('Daily cases')\n",
    "# plt.title('Daily Cases in the most affected countries')\n",
    "\n",
    "# ax = plt.gca()\n",
    "# ax.xaxis.set_major_locator(mdates.DayLocator(interval=Ninterval))\n",
    "# ax.xaxis.set_major_formatter(mdates.DateFormatter('%m-%d'))\n",
    "# plt.ticklabel_format(style='plain', axis='y', scilimits=(0,0))\n",
    "# ax.yaxis.set_major_formatter(ticker.FuncFormatter(lambda y, pos: '{:,.0f}'.format(y/1000) + 'k'))\n",
    "# plt.gcf().autofmt_xdate()\n",
    "\n",
    "# plt.grid()\n",
    "# plt.show()"
   ]
  },
  {
   "cell_type": "markdown",
   "metadata": {},
   "source": [
    "### <ins>Daily Deaths</ins> in the most affected countries"
   ]
  },
  {
   "cell_type": "code",
   "execution_count": null,
   "metadata": {},
   "outputs": [],
   "source": [
    "dfNewDeaths.sort_values(by=['date'], ascending=True)"
   ]
  },
  {
   "cell_type": "code",
   "execution_count": null,
   "metadata": {},
   "outputs": [],
   "source": [
    "# dfNewDeaths.plot(x='date', y=dfCountry, figsize=(19.20,10.80))\n",
    "\n",
    "# plt.ylabel('Daily Deaths')\n",
    "# plt.title('Daily Deaths in the most affected countries')\n",
    "\n",
    "# ax = plt.gca()\n",
    "# ax.xaxis.set_major_locator(mdates.DayLocator(interval=Ninterval))\n",
    "# ax.xaxis.set_major_formatter(mdates.DateFormatter('%m-%d'))\n",
    "# plt.ticklabel_format(style='plain', axis='y', scilimits=(0,0))\n",
    "# ax.yaxis.set_major_formatter(ticker.FuncFormatter(lambda y, pos: '{:,.0f}'.format(y/1000) + 'k'))\n",
    "# plt.gcf().autofmt_xdate()\n",
    "\n",
    "# plt.grid()\n",
    "# plt.show()"
   ]
  },
  {
   "cell_type": "markdown",
   "metadata": {},
   "source": [
    "### Daily cases and deaths by country"
   ]
  },
  {
   "cell_type": "code",
   "execution_count": null,
   "metadata": {
    "scrolled": false
   },
   "outputs": [],
   "source": [
    "for index in range(1, len(dfCountry)+1,1):\n",
    "    fig, ax1 = plt.subplots(figsize=(19.20,10.80))\n",
    "    color = 'tab:blue'\n",
    "    ax1.plot(dfNewCases.date, dfNewCases.iloc[:,index], color=color, label='Total Cases')\n",
    "    ax1.set_xlabel('Date')\n",
    "    ax1.set_ylabel('Daily Cases', color=color)\n",
    "    plt.title(dfCountry[index-1], fontsize=20)\n",
    "    ax1.tick_params(axis='y', labelcolor=color)\n",
    "    plt.ticklabel_format(style='plain', axis='y')\n",
    "    \n",
    "    plt.grid()\n",
    "    \n",
    "    ax2 = ax1.twinx()\n",
    "\n",
    "    color = 'tab:red'\n",
    "    ax2.plot(dfNewDeaths.date, dfNewDeaths.iloc[:,index], color=color, label = 'Total Deaths')\n",
    "    ax2.set_xlabel('Date')\n",
    "    ax2.set_ylabel('Daily Deaths', color=color)\n",
    "    ax2.tick_params(axis='y', labelcolor=color)\n",
    "\n",
    "    plt.ticklabel_format(style='plain', axis='y', scilimits=(0,0))\n",
    "    \n",
    "    ax1.yaxis.set_major_formatter(ticker.FuncFormatter(lambda y, pos: '{:,.2f}'.format(y/1000) + 'K'))\n",
    "    ax2.yaxis.set_major_formatter(ticker.FuncFormatter(lambda y, pos: '{:,.2f}'.format(y/1000) + 'K'))\n",
    "\n",
    "    ax = plt.gca()\n",
    "    ax.xaxis.set_major_locator(mdates.DayLocator(interval=Ninterval))\n",
    "    ax.xaxis.set_major_formatter(mdates.DateFormatter('%m-%d'))\n",
    "\n",
    "    plt.gcf().autofmt_xdate()\n",
    "    plt.show()"
   ]
  },
  {
   "cell_type": "code",
   "execution_count": null,
   "metadata": {},
   "outputs": [],
   "source": [
    "dfToday = mainCountries[mainCountries['date'] == mainCountries['date'].max()]\n",
    "dfToday"
   ]
  },
  {
   "cell_type": "code",
   "execution_count": null,
   "metadata": {},
   "outputs": [],
   "source": [
    "nameColumns = list(dfWorld.columns)\n",
    "nameColumns"
   ]
  },
  {
   "cell_type": "code",
   "execution_count": null,
   "metadata": {},
   "outputs": [],
   "source": [
    "dfWorld = dfWorld.set_index('date')"
   ]
  },
  {
   "cell_type": "code",
   "execution_count": null,
   "metadata": {},
   "outputs": [],
   "source": [
    "meanVector = np.mean(dfWorld)\n",
    "stdVector = np.std(dfWorld)\n",
    "dfNormalized = (dfWorld-meanVector)/stdVector"
   ]
  },
  {
   "cell_type": "code",
   "execution_count": null,
   "metadata": {},
   "outputs": [],
   "source": [
    "meanVector"
   ]
  },
  {
   "cell_type": "code",
   "execution_count": null,
   "metadata": {},
   "outputs": [],
   "source": [
    "dfNormalizedee"
   ]
  },
  {
   "cell_type": "code",
   "execution_count": null,
   "metadata": {},
   "outputs": [],
   "source": [
    "dfNormalized.iloc[:,2]"
   ]
  },
  {
   "cell_type": "code",
   "execution_count": null,
   "metadata": {},
   "outputs": [],
   "source": [
    "# dfNormalized[0]"
   ]
  },
  {
   "cell_type": "code",
   "execution_count": null,
   "metadata": {},
   "outputs": [],
   "source": [
    "# nameColumns = list(dfScaled.columns)"
   ]
  },
  {
   "cell_type": "code",
   "execution_count": null,
   "metadata": {},
   "outputs": [],
   "source": [
    "# scaler  = MinMaxScaler(feature_range=(0,1))"
   ]
  },
  {
   "cell_type": "code",
   "execution_count": null,
   "metadata": {},
   "outputs": [],
   "source": [
    "# dfScaled = dfWorld\n",
    "# dfScaled[['total_cases','total_deaths','new_cases','new_deaths']] = scaler.fit_transform(dfWorld[['total_cases','total_deaths','new_cases','new_deaths']])\n",
    "# # dfScaled = dfScaled.set_index('date')\n",
    "# dfScaled"
   ]
  },
  {
   "cell_type": "code",
   "execution_count": null,
   "metadata": {},
   "outputs": [],
   "source": [
    "# dfWorld = dfWorld[-180:]"
   ]
  },
  {
   "cell_type": "code",
   "execution_count": null,
   "metadata": {},
   "outputs": [],
   "source": [
    "# y={}\n",
    "# for index in range(len(nameColumns)):\n",
    "#     y[index] = dfScaled[nameColumns[index]]\n",
    "#     y[index] = y[index].fillna(y[index].bfill())"
   ]
  },
  {
   "cell_type": "code",
   "execution_count": null,
   "metadata": {},
   "outputs": [],
   "source": [
    "# y[0]"
   ]
  },
  {
   "cell_type": "code",
   "execution_count": null,
   "metadata": {},
   "outputs": [],
   "source": [
    "# meanVector = {}\n",
    "# stdVector = {}\n",
    "# dfNormalized = {}\n",
    "\n",
    "# for index in range(len(nameColumns)):\n",
    "#     meanVector[index] = np.mean(y[index])\n",
    "#     stdVector[index] = np.std(y[index])\n",
    "#     dfNormalized[index] = (y[index]-meanVector[index])/stdVector[index]"
   ]
  },
  {
   "cell_type": "code",
   "execution_count": null,
   "metadata": {},
   "outputs": [],
   "source": [
    "# dfNormalized[0]"
   ]
  },
  {
   "cell_type": "code",
   "execution_count": null,
   "metadata": {},
   "outputs": [],
   "source": [
    "# y = {}\n",
    "# for index in range(len(nameColumns)):\n",
    "#     y[index] = dfNormalized.iloc[:,index]"
   ]
  },
  {
   "cell_type": "code",
   "execution_count": null,
   "metadata": {},
   "outputs": [],
   "source": [
    "# y = dfScaled['total_deaths'].resample('D').mean()\n",
    "# # y = dfWorld['new_cases']\n",
    "# y = y.fillna(y.bfill())"
   ]
  },
  {
   "cell_type": "code",
   "execution_count": null,
   "metadata": {},
   "outputs": [],
   "source": []
  },
  {
   "cell_type": "code",
   "execution_count": null,
   "metadata": {},
   "outputs": [],
   "source": [
    "p = d = q = range(0, 2)"
   ]
  },
  {
   "cell_type": "code",
   "execution_count": null,
   "metadata": {},
   "outputs": [],
   "source": [
    "pdq = list(itertools.product(p, d, q))"
   ]
  },
  {
   "cell_type": "code",
   "execution_count": null,
   "metadata": {},
   "outputs": [],
   "source": [
    "seasonal_pdq = [(x[0], x[1], x[2], 7) for x in list(itertools.product(p, d, q))]"
   ]
  },
  {
   "cell_type": "code",
   "execution_count": null,
   "metadata": {},
   "outputs": [],
   "source": [
    "# warnings.filterwarnings(\"ignore\")\n",
    "# for param in pdq:\n",
    "#     for param_seasonal in seasonal_pdq:\n",
    "#         try:\n",
    "#             mod = sm.tsa.statespace.SARIMAX(y,\n",
    "#                                             order=param,\n",
    "#                                             seasonal_order=param_seasonal,\n",
    "#                                             enforce_stationarity=False,\n",
    "#                                             enforce_invertibility=False)\n",
    "\n",
    "#             results = mod.fit()\n",
    "# #             print('ARIMA{}x{}7 - AIC:{}'.format(param, param_seasonal, results.aic))\n",
    "#         except:\n",
    "#             print('PAU')\n",
    "#             continue"
   ]
  },
  {
   "cell_type": "code",
   "execution_count": null,
   "metadata": {},
   "outputs": [],
   "source": [
    "# mod = sm.tsa.statespace.SARIMAX(y,\n",
    "#                                order=(1,0,1),\n",
    "#                                seasonal_order=(1,0,1,7),\n",
    "#                                enforce_stationarity=False,\n",
    "#                                enforce_invertibility=False)\n",
    "# results = mod.fit()\n",
    "# print(results.summary().tables[1])"
   ]
  },
  {
   "cell_type": "code",
   "execution_count": null,
   "metadata": {},
   "outputs": [],
   "source": [
    "# results.plot_diagnostics(figsize=(15,12))\n",
    "# plt.show()"
   ]
  },
  {
   "cell_type": "code",
   "execution_count": null,
   "metadata": {},
   "outputs": [],
   "source": [
    "pred = results.get_prediction(start=pd.to_datetime('2020-07-15'), dynamic=False)\n",
    "pred_ci = pred.conf_int()"
   ]
  },
  {
   "cell_type": "code",
   "execution_count": null,
   "metadata": {},
   "outputs": [],
   "source": [
    "pred_cix"
   ]
  },
  {
   "cell_type": "code",
   "execution_count": null,
   "metadata": {},
   "outputs": [],
   "source": [
    "ax = y['2020-05':].plot(label='observed', figsize=(15,12))\n",
    "pred.predicted_mean.plot(ax=ax, label='One-step ahead Forecast', alpha=.7)\n",
    "\n",
    "ax.fill_between(pred_ci.index,\n",
    "               pred_ci.iloc[:,0],\n",
    "               pred_ci.iloc[:,1],color='k', alpha=.2)\n",
    "\n",
    "ax.set_xlabel('Date')\n",
    "ax.set_ylabel('new_cases')\n",
    "plt.legend()\n",
    "plt.show()"
   ]
  },
  {
   "cell_type": "code",
   "execution_count": null,
   "metadata": {},
   "outputs": [],
   "source": [
    "y_forecasted = pred.predicted_mean\n",
    "y_truth = y['2020-07-15':]"
   ]
  },
  {
   "cell_type": "code",
   "execution_count": null,
   "metadata": {},
   "outputs": [],
   "source": [
    "pred_uc = results.get_forecast(steps=50)\n",
    "pred_ci = pred_uc.conf_int()"
   ]
  },
  {
   "cell_type": "code",
   "execution_count": null,
   "metadata": {},
   "outputs": [],
   "source": [
    "pred_ci"
   ]
  },
  {
   "cell_type": "code",
   "execution_count": null,
   "metadata": {},
   "outputs": [],
   "source": [
    "ax = y.plot(label='observed', figsize=(19.20, 10.80))\n",
    "pred_uc.predicted_mean.plot(ax=ax, label='Forecast')\n",
    "ax.fill_between(pred_ci.index,\n",
    "                pred_ci.iloc[:, 0],\n",
    "                pred_ci.iloc[:, 1], color='k', alpha=.25)\n",
    "\n",
    "ax.set_xlabel('Date')\n",
    "ax.set_ylabel('Daily Deaths')\n",
    "\n",
    "ax = plt.gca()\n",
    "ax.xaxis.set_major_locator(mdates.DayLocator(interval=10))\n",
    "ax.xaxis.set_major_formatter(mdates.DateFormatter('%m-%d'))\n",
    "plt.gcf().autofmt_xdate()\n",
    "\n",
    "plt.grid()\n",
    "plt.legend()\n",
    "plt.show()"
   ]
  },
  {
   "cell_type": "code",
   "execution_count": null,
   "metadata": {},
   "outputs": [],
   "source": [
    "p = d = q = range(0, 2)"
   ]
  },
  {
   "cell_type": "code",
   "execution_count": null,
   "metadata": {},
   "outputs": [],
   "source": [
    "pdq = list(itertools.product(p, d, q))"
   ]
  },
  {
   "cell_type": "code",
   "execution_count": null,
   "metadata": {},
   "outputs": [],
   "source": [
    "seasonal_pdq = [(x[0], x[1], x[2], 7) for x in list(itertools.product(p, d, q))]"
   ]
  },
  {
   "cell_type": "code",
   "execution_count": null,
   "metadata": {},
   "outputs": [],
   "source": [
    "warnings.filterwarnings(\"ignore\")\n",
    "for param in pdq:\n",
    "    for param_seasonal in seasonal_pdq:\n",
    "        try:\n",
    "            mod = sm.tsa.statespace.SARIMAX(y,\n",
    "                                            order=param,\n",
    "                                            seasonal_order=param_seasonal,\n",
    "                                            enforce_stationarity=False,\n",
    "                                            enforce_invertibility=False)\n",
    "\n",
    "            results = mod.fit()\n",
    "#             print('ARIMA{}x{}7 - AIC:{}'.format(param, param_seasonal, results.aic))\n",
    "        except:\n",
    "            print('PAU')\n",
    "            continue"
   ]
  },
  {
   "cell_type": "code",
   "execution_count": null,
   "metadata": {},
   "outputs": [],
   "source": [
    "mod = sm.tsa.statespace.SARIMAX(y,\n",
    "                               order=(1,0,1),\n",
    "                               seasonal_order=(1,0,1,7),\n",
    "                               enforce_stationarity=False,\n",
    "                               enforce_invertibility=False)\n",
    "results = mod.fit()\n",
    "print(results.summary().tables[1])"
   ]
  },
  {
   "cell_type": "code",
   "execution_count": null,
   "metadata": {},
   "outputs": [],
   "source": [
    "results.plot_diagnostics(figsize=(15,12))\n",
    "plt.show()"
   ]
  },
  {
   "cell_type": "code",
   "execution_count": null,
   "metadata": {},
   "outputs": [],
   "source": [
    "pred = results.get_prediction(start=pd.to_datetime('2020-07-15'), dynamic=False)\n",
    "pred_ci = pred.conf_int()"
   ]
  },
  {
   "cell_type": "code",
   "execution_count": null,
   "metadata": {},
   "outputs": [],
   "source": [
    "pred_ci"
   ]
  },
  {
   "cell_type": "code",
   "execution_count": null,
   "metadata": {},
   "outputs": [],
   "source": [
    "ax = y['2020-05':].plot(label='observed', figsize=(15,12))\n",
    "pred.predicted_mean.plot(ax=ax, label='One-step ahead Forecast', alpha=.7)\n",
    "\n",
    "ax.fill_between(pred_ci.index,\n",
    "               pred_ci.iloc[:,0],\n",
    "               pred_ci.iloc[:,1],color='k', alpha=.2)\n",
    "\n",
    "ax.set_xlabel('Date')\n",
    "ax.set_ylabel('new_cases')\n",
    "plt.legend()\n",
    "plt.show()"
   ]
  },
  {
   "cell_type": "code",
   "execution_count": null,
   "metadata": {},
   "outputs": [],
   "source": [
    "y_forecasted = pred.predicted_mean\n",
    "y_truth = y['2020-07-15':]"
   ]
  },
  {
   "cell_type": "code",
   "execution_count": null,
   "metadata": {},
   "outputs": [],
   "source": [
    "pred_uc = results.get_forecast(steps=50)\n",
    "pred_ci = pred_uc.conf_int()"
   ]
  },
  {
   "cell_type": "code",
   "execution_count": null,
   "metadata": {},
   "outputs": [],
   "source": [
    "pred_ci"
   ]
  },
  {
   "cell_type": "code",
   "execution_count": null,
   "metadata": {},
   "outputs": [],
   "source": [
    "ax = y.plot(label='observed', figsize=(19.20, 10.80))\n",
    "pred_uc.predicted_mean.plot(ax=ax, label='Forecast')\n",
    "ax.fill_between(pred_ci.index,\n",
    "                pred_ci.iloc[:, 0],\n",
    "                pred_ci.iloc[:, 1], color='k', alpha=.25)\n",
    "\n",
    "ax.set_xlabel('Date')\n",
    "ax.set_ylabel('Daily Deaths')\n",
    "\n",
    "ax = plt.gca()\n",
    "ax.xaxis.set_major_locator(mdates.DayLocator(interval=10))\n",
    "ax.xaxis.set_major_formatter(mdates.DateFormatter('%m-%d'))\n",
    "plt.gcf().autofmt_xdate()\n",
    "\n",
    "plt.grid()\n",
    "plt.legend()\n",
    "plt.show()"
   ]
  },
  {
   "cell_type": "code",
   "execution_count": null,
   "metadata": {},
   "outputs": [],
   "source": [
    "p = d = q = range(0, 2)"
   ]
  },
  {
   "cell_type": "code",
   "execution_count": null,
   "metadata": {},
   "outputs": [],
   "source": [
    "pdq = list(itertools.product(p, d, q))"
   ]
  },
  {
   "cell_type": "code",
   "execution_count": null,
   "metadata": {},
   "outputs": [],
   "source": [
    "seasonal_pdq = [(x[0], x[1], x[2], 7) for x in list(itertools.product(p, d, q))]"
   ]
  },
  {
   "cell_type": "code",
   "execution_count": null,
   "metadata": {},
   "outputs": [],
   "source": [
    "warnings.filterwarnings(\"ignore\")\n",
    "for param in pdq:\n",
    "    for param_seasonal in seasonal_pdq:\n",
    "        try:\n",
    "            mod = sm.tsa.statespace.SARIMAX(y,\n",
    "                                            order=param,\n",
    "                                            seasonal_order=param_seasonal,\n",
    "                                            enforce_stationarity=False,\n",
    "                                            enforce_invertibility=False)\n",
    "\n",
    "            results = mod.fit()\n",
    "#             print('ARIMA{}x{}7 - AIC:{}'.format(param, param_seasonal, results.aic))\n",
    "        except:\n",
    "            print('PAU')\n",
    "            continue"
   ]
  },
  {
   "cell_type": "code",
   "execution_count": null,
   "metadata": {},
   "outputs": [],
   "source": [
    "mod = sm.tsa.statespace.SARIMAX(y,\n",
    "                               order=(1,0,1),\n",
    "                               seasonal_order=(1,0,1,7),\n",
    "                               enforce_stationarity=False,\n",
    "                               enforce_invertibility=False)\n",
    "results = mod.fit()\n",
    "print(results.summary().tables[1])"
   ]
  },
  {
   "cell_type": "code",
   "execution_count": null,
   "metadata": {},
   "outputs": [],
   "source": [
    "results.plot_diagnostics(figsize=(15,12))\n",
    "plt.show()"
   ]
  },
  {
   "cell_type": "code",
   "execution_count": null,
   "metadata": {},
   "outputs": [],
   "source": [
    "pred = results.get_prediction(start=pd.to_datetime('2020-07-15'), dynamic=False)\n",
    "pred_ci = pred.conf_int()"
   ]
  },
  {
   "cell_type": "code",
   "execution_count": null,
   "metadata": {},
   "outputs": [],
   "source": [
    "pred_ci"
   ]
  },
  {
   "cell_type": "code",
   "execution_count": null,
   "metadata": {},
   "outputs": [],
   "source": [
    "ax = y['2020-05':].plot(label='observed', figsize=(15,12))\n",
    "pred.predicted_mean.plot(ax=ax, label='One-step ahead Forecast', alpha=.7)\n",
    "\n",
    "ax.fill_between(pred_ci.index,\n",
    "               pred_ci.iloc[:,0],\n",
    "               pred_ci.iloc[:,1],color='k', alpha=.2)\n",
    "\n",
    "ax.set_xlabel('Date')\n",
    "ax.set_ylabel('new_cases')\n",
    "plt.legend()\n",
    "plt.show()"
   ]
  },
  {
   "cell_type": "code",
   "execution_count": null,
   "metadata": {},
   "outputs": [],
   "source": [
    "y_forecasted = pred.predicted_mean\n",
    "y_truth = y['2020-07-15':]"
   ]
  },
  {
   "cell_type": "code",
   "execution_count": null,
   "metadata": {},
   "outputs": [],
   "source": [
    "pred_uc = results.get_forecast(steps=50)\n",
    "pred_ci = pred_uc.conf_int()"
   ]
  },
  {
   "cell_type": "code",
   "execution_count": null,
   "metadata": {},
   "outputs": [],
   "source": [
    "pred_ci"
   ]
  },
  {
   "cell_type": "code",
   "execution_count": null,
   "metadata": {},
   "outputs": [],
   "source": [
    "ax = y.plot(label='observed', figsize=(19.20, 10.80))\n",
    "pred_uc.predicted_mean.plot(ax=ax, label='Forecast')\n",
    "ax.fill_between(pred_ci.index,\n",
    "                pred_ci.iloc[:, 0],\n",
    "                pred_ci.iloc[:, 1], color='k', alpha=.25)\n",
    "\n",
    "ax.set_xlabel('Date')\n",
    "ax.set_ylabel('Daily Deaths')\n",
    "\n",
    "ax = plt.gca()\n",
    "ax.xaxis.set_major_locator(mdates.DayLocator(interval=10))\n",
    "ax.xaxis.set_major_formatter(mdates.DateFormatter('%m-%d'))\n",
    "plt.gcf().autofmt_xdate()\n",
    "\n",
    "plt.grid()\n",
    "plt.legend()\n",
    "plt.show()"
   ]
  },
  {
   "cell_type": "code",
   "execution_count": null,
   "metadata": {},
   "outputs": [],
   "source": [
    "p = d = q = range(0, 2)"
   ]
  },
  {
   "cell_type": "code",
   "execution_count": null,
   "metadata": {},
   "outputs": [],
   "source": [
    "pdq = list(itertools.product(p, d, q))"
   ]
  },
  {
   "cell_type": "code",
   "execution_count": null,
   "metadata": {},
   "outputs": [],
   "source": [
    "seasonal_pdq = [(x[0], x[1], x[2], 7) for x in list(itertools.product(p, d, q))]"
   ]
  },
  {
   "cell_type": "code",
   "execution_count": null,
   "metadata": {},
   "outputs": [],
   "source": [
    "warnings.filterwarnings(\"ignore\")\n",
    "for param in pdq:\n",
    "    for param_seasonal in seasonal_pdq:\n",
    "        try:\n",
    "            mod = sm.tsa.statespace.SARIMAX(y,\n",
    "                                            order=param,\n",
    "                                            seasonal_order=param_seasonal,\n",
    "                                            enforce_stationarity=False,\n",
    "                                            enforce_invertibility=False)\n",
    "\n",
    "            results = mod.fit()\n",
    "#             print('ARIMA{}x{}7 - AIC:{}'.format(param, param_seasonal, results.aic))\n",
    "        except:\n",
    "            print('PAU')\n",
    "            continue"
   ]
  },
  {
   "cell_type": "code",
   "execution_count": null,
   "metadata": {},
   "outputs": [],
   "source": [
    "mod = sm.tsa.statespace.SARIMAX(y,\n",
    "                               order=(1,0,1),\n",
    "                               seasonal_order=(1,0,1,7),\n",
    "                               enforce_stationarity=False,\n",
    "                               enforce_invertibility=False)\n",
    "results = mod.fit()\n",
    "print(results.summary().tables[1])"
   ]
  },
  {
   "cell_type": "code",
   "execution_count": null,
   "metadata": {},
   "outputs": [],
   "source": [
    "results.plot_diagnostics(figsize=(15,12))\n",
    "plt.show()"
   ]
  },
  {
   "cell_type": "code",
   "execution_count": null,
   "metadata": {},
   "outputs": [],
   "source": [
    "pred = results.get_prediction(start=pd.to_datetime('2020-07-15'), dynamic=False)\n",
    "pred_ci = pred.conf_int()"
   ]
  },
  {
   "cell_type": "code",
   "execution_count": null,
   "metadata": {},
   "outputs": [],
   "source": [
    "pred_ci"
   ]
  },
  {
   "cell_type": "code",
   "execution_count": null,
   "metadata": {},
   "outputs": [],
   "source": [
    "ax = y['2020-05':].plot(label='observed', figsize=(15,12))\n",
    "pred.predicted_mean.plot(ax=ax, label='One-step ahead Forecast', alpha=.7)\n",
    "\n",
    "ax.fill_between(pred_ci.index,\n",
    "               pred_ci.iloc[:,0],\n",
    "               pred_ci.iloc[:,1],color='k', alpha=.2)\n",
    "\n",
    "ax.set_xlabel('Date')\n",
    "ax.set_ylabel('new_cases')\n",
    "plt.legend()\n",
    "plt.show()"
   ]
  },
  {
   "cell_type": "code",
   "execution_count": null,
   "metadata": {},
   "outputs": [],
   "source": [
    "y_forecasted = pred.predicted_mean\n",
    "y_truth = y['2020-07-15':]"
   ]
  },
  {
   "cell_type": "code",
   "execution_count": null,
   "metadata": {},
   "outputs": [],
   "source": [
    "pred_uc = results.get_forecast(steps=50)\n",
    "pred_ci = pred_uc.conf_int()"
   ]
  },
  {
   "cell_type": "code",
   "execution_count": null,
   "metadata": {},
   "outputs": [],
   "source": [
    "pred_ci"
   ]
  },
  {
   "cell_type": "code",
   "execution_count": null,
   "metadata": {},
   "outputs": [],
   "source": [
    "ax = y.plot(label='observed', figsize=(19.20, 10.80))\n",
    "pred_uc.predicted_mean.plot(ax=ax, label='Forecast')\n",
    "ax.fill_between(pred_ci.index,\n",
    "                pred_ci.iloc[:, 0],\n",
    "                pred_ci.iloc[:, 1], color='k', alpha=.25)\n",
    "\n",
    "ax.set_xlabel('Date')\n",
    "ax.set_ylabel('Daily Deaths')\n",
    "\n",
    "ax = plt.gca()\n",
    "ax.xaxis.set_major_locator(mdates.DayLocator(interval=10))\n",
    "ax.xaxis.set_major_formatter(mdates.DateFormatter('%m-%d'))\n",
    "plt.gcf().autofmt_xdate()\n",
    "\n",
    "plt.grid()\n",
    "plt.legend()\n",
    "plt.show()"
   ]
  },
  {
   "cell_type": "code",
   "execution_count": null,
   "metadata": {},
   "outputs": [],
   "source": [
    "p = d = q = range(0, 2)"
   ]
  },
  {
   "cell_type": "code",
   "execution_count": null,
   "metadata": {},
   "outputs": [],
   "source": [
    "pdq = list(itertools.product(p, d, q))"
   ]
  },
  {
   "cell_type": "code",
   "execution_count": null,
   "metadata": {},
   "outputs": [],
   "source": [
    "seasonal_pdq = [(x[0], x[1], x[2], 7) for x in list(itertools.product(p, d, q))]"
   ]
  },
  {
   "cell_type": "code",
   "execution_count": null,
   "metadata": {},
   "outputs": [],
   "source": [
    "warnings.filterwarnings(\"ignore\")\n",
    "for param in pdq:\n",
    "    for param_seasonal in seasonal_pdq:\n",
    "        try:\n",
    "            mod = sm.tsa.statespace.SARIMAX(y,\n",
    "                                            order=param,\n",
    "                                            seasonal_order=param_seasonal,\n",
    "                                            enforce_stationarity=False,\n",
    "                                            enforce_invertibility=False)\n",
    "\n",
    "            results = mod.fit()\n",
    "#             print('ARIMA{}x{}7 - AIC:{}'.format(param, param_seasonal, results.aic))\n",
    "        except:\n",
    "            print('PAU')\n",
    "            continue"
   ]
  },
  {
   "cell_type": "code",
   "execution_count": null,
   "metadata": {},
   "outputs": [],
   "source": [
    "mod = sm.tsa.statespace.SARIMAX(y,\n",
    "                               order=(1,0,1),\n",
    "                               seasonal_order=(1,0,1,7),\n",
    "                               enforce_stationarity=False,\n",
    "                               enforce_invertibility=False)\n",
    "results = mod.fit()\n",
    "print(results.summary().tables[1])"
   ]
  },
  {
   "cell_type": "code",
   "execution_count": null,
   "metadata": {},
   "outputs": [],
   "source": [
    "results.plot_diagnostics(figsize=(15,12))\n",
    "plt.show()"
   ]
  },
  {
   "cell_type": "code",
   "execution_count": null,
   "metadata": {},
   "outputs": [],
   "source": [
    "pred = results.get_prediction(start=pd.to_datetime('2020-07-15'), dynamic=False)\n",
    "pred_ci = pred.conf_int()"
   ]
  },
  {
   "cell_type": "code",
   "execution_count": null,
   "metadata": {},
   "outputs": [],
   "source": [
    "pred_ci"
   ]
  },
  {
   "cell_type": "code",
   "execution_count": null,
   "metadata": {},
   "outputs": [],
   "source": [
    "ax = y['2020-05':].plot(label='observed', figsize=(15,12))\n",
    "pred.predicted_mean.plot(ax=ax, label='One-step ahead Forecast', alpha=.7)\n",
    "\n",
    "ax.fill_between(pred_ci.index,\n",
    "               pred_ci.iloc[:,0],\n",
    "               pred_ci.iloc[:,1],color='k', alpha=.2)\n",
    "\n",
    "ax.set_xlabel('Date')\n",
    "ax.set_ylabel('new_cases')\n",
    "plt.legend()\n",
    "plt.show()"
   ]
  },
  {
   "cell_type": "code",
   "execution_count": null,
   "metadata": {},
   "outputs": [],
   "source": [
    "y_forecasted = pred.predicted_mean\n",
    "y_truth = y['2020-07-15':]"
   ]
  },
  {
   "cell_type": "code",
   "execution_count": null,
   "metadata": {},
   "outputs": [],
   "source": [
    "pred_uc = results.get_forecast(steps=50)\n",
    "pred_ci = pred_uc.conf_int()"
   ]
  },
  {
   "cell_type": "code",
   "execution_count": null,
   "metadata": {},
   "outputs": [],
   "source": [
    "pred_ci"
   ]
  },
  {
   "cell_type": "code",
   "execution_count": null,
   "metadata": {},
   "outputs": [],
   "source": [
    "ax = y.plot(label='observed', figsize=(19.20, 10.80))\n",
    "pred_uc.predicted_mean.plot(ax=ax, label='Forecast')\n",
    "ax.fill_between(pred_ci.index,\n",
    "                pred_ci.iloc[:, 0],\n",
    "                pred_ci.iloc[:, 1], color='k', alpha=.25)\n",
    "\n",
    "ax.set_xlabel('Date')\n",
    "ax.set_ylabel('Daily Deaths')\n",
    "\n",
    "ax = plt.gca()\n",
    "ax.xaxis.set_major_locator(mdates.DayLocator(interval=10))\n",
    "ax.xaxis.set_major_formatter(mdates.DateFormatter('%m-%d'))\n",
    "plt.gcf().autofmt_xdate()\n",
    "\n",
    "plt.grid()\n",
    "plt.legend()\n",
    "plt.show()"
   ]
  },
  {
   "cell_type": "code",
   "execution_count": null,
   "metadata": {},
   "outputs": [],
   "source": [
    "p = d = q = range(0, 2)"
   ]
  },
  {
   "cell_type": "code",
   "execution_count": null,
   "metadata": {},
   "outputs": [],
   "source": [
    "pdq = list(itertools.product(p, d, q))"
   ]
  },
  {
   "cell_type": "code",
   "execution_count": null,
   "metadata": {},
   "outputs": [],
   "source": [
    "seasonal_pdq = [(x[0], x[1], x[2], 7) for x in list(itertools.product(p, d, q))]"
   ]
  },
  {
   "cell_type": "code",
   "execution_count": null,
   "metadata": {
    "scrolled": false
   },
   "outputs": [],
   "source": [
    "print('Examples of parameter combinations for Seasonal ARIMA...')\n",
    "print('SARIMAX: {} x {}'.format(pdq[1], seasonal_pdq[1]))\n",
    "print('SARIMAX: {} x {}'.format(pdq[1], seasonal_pdq[2]))\n",
    "print('SARIMAX: {} x {}'.format(pdq[2], seasonal_pdq[3]))\n",
    "print('SARIMAX: {} x {}'.format(pdq[2], seasonal_pdq[4]))"
   ]
  },
  {
   "cell_type": "code",
   "execution_count": null,
   "metadata": {},
   "outputs": [],
   "source": [
    "warnings.filterwarnings(\"ignore\")\n",
    "for param in pdq:\n",
    "    for param_seasonal in seasonal_pdq:\n",
    "        try:\n",
    "            for index in range(len(nameColumns)):\n",
    "                mod = sm.tsa.statespace.SARIMAX(y[index],\n",
    "                                                order=param,\n",
    "                                                seasonal_order=param_seasonal,\n",
    "                                                enforce_stationarity=False,\n",
    "                                                enforce_invertibility=False)\n",
    "\n",
    "                results = mod.fit()\n",
    "                print('ARIMA{}x{}12 - AIC:{}'.format(param, param_seasonal, results.aic))\n",
    "        except:\n",
    "            print('PAU')\n",
    "            continue"
   ]
  },
  {
   "cell_type": "code",
   "execution_count": null,
   "metadata": {},
   "outputs": [],
   "source": [
    "# warnings.filterwarnings(\"ignore\")\n",
    "# for param in pdq:\n",
    "#     for param_seasonal in seasonal_pdq:\n",
    "#         try:\n",
    "#             mod = sm.tsa.statespace.SARIMAX(y,\n",
    "#                                             order=param,\n",
    "#                                             seasonal_order=param_seasonal,\n",
    "#                                             enforce_stationarity=False,\n",
    "#                                             enforce_invertibility=False)\n",
    "\n",
    "#             results = mod.fit()\n",
    "\n",
    "#             print('ARIMA{}x{}7 - AIC:{}'.format(param, param_seasonal, results.aic))\n",
    "#         except:\n",
    "#             continue"
   ]
  },
  {
   "cell_type": "code",
   "execution_count": null,
   "metadata": {},
   "outputs": [],
   "source": [
    "mod = sm.tsa.statespace.SARIMAX(y,\n",
    "                               order=(1,0,0),\n",
    "                               seasonal_order=(1,0,0,7),\n",
    "                               enforce_stationarity=False,\n",
    "                               enforce_invertibility=False)\n",
    "results = mod.fit()\n",
    "print(results.summary().tables[1])\n",
    "\n",
    "# ARIMA(0, 0, 1)x(1, 0, 0, 7)7 - AIC:-27.65090083011723\n",
    "# ARIMA(0, 0, 1)x(0, 0, 0, 12)12 - AIC:34.87146228951575"
   ]
  },
  {
   "cell_type": "code",
   "execution_count": null,
   "metadata": {},
   "outputs": [],
   "source": [
    "results.plot_diagnostics(figsize=(15,12))\n",
    "plt.show()"
   ]
  },
  {
   "cell_type": "code",
   "execution_count": null,
   "metadata": {},
   "outputs": [],
   "source": [
    "pred = results.get_prediction(start=pd.to_datetime('2020-07-15'), dynamic=False)\n",
    "pred_ci = pred.conf_int()"
   ]
  },
  {
   "cell_type": "code",
   "execution_count": null,
   "metadata": {},
   "outputs": [],
   "source": [
    "pred_ci"
   ]
  },
  {
   "cell_type": "code",
   "execution_count": null,
   "metadata": {},
   "outputs": [],
   "source": [
    "meanVector[2]"
   ]
  },
  {
   "cell_type": "code",
   "execution_count": null,
   "metadata": {},
   "outputs": [],
   "source": [
    "# meanVector = np.mean(dfWorld)\n",
    "# stdVector = np.std(dfWorld)\n",
    "# pred_ci = (pred_ci*stdVector[2])+meanVector[2]\n",
    "# pred_ci"
   ]
  },
  {
   "cell_type": "code",
   "execution_count": null,
   "metadata": {},
   "outputs": [],
   "source": [
    "ax = y['2020-05':].plot(label='observed', figsize=(15,12))\n",
    "pred.predicted_mean.plot(ax=ax, label='One-step ahead Forecast', alpha=.7)\n",
    "\n",
    "ax.fill_between(pred_ci.index,\n",
    "               pred_ci.iloc[:,0],\n",
    "               pred_ci.iloc[:,1],color='k', alpha=.2)\n",
    "\n",
    "ax.set_xlabel('Date')\n",
    "ax.set_ylabel('new_cases')\n",
    "plt.legend()\n",
    "plt.show()"
   ]
  },
  {
   "cell_type": "code",
   "execution_count": null,
   "metadata": {},
   "outputs": [],
   "source": [
    "y_forecasted = pred.predicted_mean\n",
    "y_truth = y['2020-07-15':]"
   ]
  },
  {
   "cell_type": "code",
   "execution_count": null,
   "metadata": {},
   "outputs": [],
   "source": [
    "mse = ((y_forecasted - y_truth) ** 2).mean()\n",
    "print('The Mean Squared Error (MSE) of our forecast is {}'.format(round(mse, 2)))"
   ]
  },
  {
   "cell_type": "code",
   "execution_count": null,
   "metadata": {},
   "outputs": [],
   "source": [
    "pred_dynamic = results.get_prediction(start=pd.to_datetime('2020-07-15'), dynamic=True, full_results=True)\n",
    "pred_dynamic_ci = pred_dynamic.conf_int()"
   ]
  },
  {
   "cell_type": "code",
   "execution_count": null,
   "metadata": {},
   "outputs": [],
   "source": [
    "ax = y['2020-05':].plot(label='observed', figsize=(20,15))\n",
    "pred_dynamic.predicted_mean.plot(label='Dynamic Forecast', ax=ax)\n",
    "\n",
    "ax.fill_between(pred_dynamic_ci.index,\n",
    "               pred_dynamic_ci.iloc[:,0],\n",
    "               pred_dynamic_ci.iloc[:,1], color='k', alpha=.25)\n",
    "\n",
    "# ax.fill_between(ax.get_ylim(), pd.to_datetime('2020-07-15'), y.index[-1],\n",
    "#                alpha=.1, zorder=-1)\n",
    "\n",
    "ax.fill_betweenx(ax.get_ylim(), pd.to_datetime('2020-07-15'), y.index[-1],\n",
    "                 alpha=.1, zorder=-1)\n",
    "\n",
    "ax.set_xlabel('Date')\n",
    "ax.set_ylabel('New Deaths')\n",
    "\n",
    "plt.legend()\n",
    "plt.show()"
   ]
  },
  {
   "cell_type": "code",
   "execution_count": null,
   "metadata": {},
   "outputs": [],
   "source": [
    "# y_forecasted = pred_dynamic.predicted_mean\n",
    "# y_truth = y['2020-07-15':]\n",
    "\n",
    "# # Compute the mean square error\n",
    "# mse = ((y_forecasted - y_truth) ** 2).mean()\n",
    "# print('The Mean Squared Error of our forecasts is {}'.format(round(mse, 2)))"
   ]
  },
  {
   "cell_type": "code",
   "execution_count": null,
   "metadata": {},
   "outputs": [],
   "source": [
    "pred_uc = results.get_forecast(steps=50)\n",
    "pred_ci = pred_uc.conf_int()"
   ]
  },
  {
   "cell_type": "code",
   "execution_count": null,
   "metadata": {},
   "outputs": [],
   "source": [
    "# pred_ci = scaler.inverse_transform(pred_ci)"
   ]
  },
  {
   "cell_type": "code",
   "execution_count": null,
   "metadata": {},
   "outputs": [],
   "source": [
    "pred_ci"
   ]
  },
  {
   "cell_type": "code",
   "execution_count": null,
   "metadata": {},
   "outputs": [],
   "source": [
    "# stdVector[2]"
   ]
  },
  {
   "cell_type": "code",
   "execution_count": null,
   "metadata": {},
   "outputs": [],
   "source": [
    "# pred_ci = (pred_ci*stdVector[0])+meanVector[0]\n",
    "# pred_ci\n",
    "# predictions_denormalized"
   ]
  },
  {
   "cell_type": "code",
   "execution_count": null,
   "metadata": {},
   "outputs": [],
   "source": [
    "ax = y.plot(label='observed', figsize=(19.20, 10.80))\n",
    "pred_uc.predicted_mean.plot(ax=ax, label='Forecast')\n",
    "ax.fill_between(pred_ci.index,\n",
    "                pred_ci.iloc[:, 0],\n",
    "                pred_ci.iloc[:, 1], color='k', alpha=.25)\n",
    "\n",
    "ax.set_xlabel('Date')\n",
    "ax.set_ylabel('Daily Deaths')\n",
    "\n",
    "ax = plt.gca()\n",
    "ax.xaxis.set_major_locator(mdates.DayLocator(interval=10))\n",
    "ax.xaxis.set_major_formatter(mdates.DateFormatter('%m-%d'))\n",
    "plt.gcf().autofmt_xdate()\n",
    "\n",
    "plt.grid()\n",
    "plt.legend()\n",
    "plt.show()"
   ]
  },
  {
   "cell_type": "code",
   "execution_count": null,
   "metadata": {},
   "outputs": [],
   "source": []
  },
  {
   "cell_type": "code",
   "execution_count": null,
   "metadata": {},
   "outputs": [],
   "source": []
  },
  {
   "cell_type": "code",
   "execution_count": null,
   "metadata": {},
   "outputs": [],
   "source": []
  },
  {
   "cell_type": "code",
   "execution_count": null,
   "metadata": {},
   "outputs": [],
   "source": []
  },
  {
   "cell_type": "code",
   "execution_count": null,
   "metadata": {},
   "outputs": [],
   "source": [
    "# for index in range(len(nameColumns)):\n",
    "#     fig, ax = plt.subplots(figsize=(19.20,10.80))\n",
    "\n",
    "#     ax.plot(dfWorld.date, y[index])\n",
    "#     ax.set_xlabel('Date')\n",
    "#     ax.set_ylabel(nameColumns[index])\n",
    "#     plt.title(nameColumns[index])\n",
    "     \n",
    "#     ax = plt.gca()\n",
    "#     ax.xaxis.set_major_locator(mdates.DayLocator(interval=10))\n",
    "#     ax.xaxis.set_major_formatter(mdates.DateFormatter('%Y-%m-%d'))\n",
    "#     plt.gcf().autofmt_xdate()\n",
    "\n",
    "#     print()\n",
    "#     plt.show()"
   ]
  },
  {
   "cell_type": "code",
   "execution_count": null,
   "metadata": {},
   "outputs": [],
   "source": []
  },
  {
   "cell_type": "code",
   "execution_count": null,
   "metadata": {},
   "outputs": [],
   "source": []
  },
  {
   "cell_type": "code",
   "execution_count": null,
   "metadata": {},
   "outputs": [],
   "source": [
    "# x = sumCases.total_cases\n",
    "# y = sumCases.total_deaths\n",
    "\n",
    "# y1_sizes = x\n",
    "# y2_sizes = y\n",
    "\n",
    "# fig, axarr = plt.subplots(1, 2,  figsize=(15.20,10.80))\n",
    "# ax1 = axarr[0]\n",
    "# ax2 = axarr[1]\n",
    "\n",
    "# ax1.pie(y1_sizes, startangle=90, textprops={'fontsize': 12},\n",
    "#         autopct='%1.1f%%',pctdistance=0.9, radius=1)\n",
    "# # ax1.pie(y1_sizes, shadow=True, startangle=90, labels=sumCases.index, textprops={'fontsize': 12}, autopct='%1.1f%%')\n",
    "\n",
    "# # ax1.axis('equal')\n",
    "\n",
    "# ax2.pie(y2_sizes, shadow=True, startangle=90, textprops={'fontsize': 12},\n",
    "#         autopct='%1.1f%%', pctdistance=0.9, radius=1)\n",
    "# # ax2.axis('equal') \n",
    "\n",
    "# lgd1 = ax1.legend(sumCases.index, bbox_to_anchor=(1,0.5), fontsize=12,\n",
    "#                   loc=\"center right\",bbox_transform=plt.gcf().transFigure)\n",
    "# # lgd2 = ax2.legend(sumCases.index, loc='lower center')\n",
    "\n",
    "# # plt.legend(pie[0],labels, bbox_to_anchor=(1,0.5), loc=\"center right\", fontsize=10, \n",
    "# #            bbox_transform=plt.gcf().transFigure)\n",
    "# # plt.subplots_adjust(left=0.0, bottom=0.1, right=0.85)\n",
    "\n",
    "# ax1.set_title('Total Cases', fontsize=18, y=1)\n",
    "# ax2.set_title('Total Deaths', fontsize=18, y=1)\n",
    "# # fig.suptitle('My Chart Title', fontweight='bold', fontsize=16, y=0.85)\n",
    "# # plt.tight_layout()\n",
    "# plt.subplots_adjust(left=0.0, bottom=0.1, right=0.85)\n",
    "# plt.show()"
   ]
  },
  {
   "cell_type": "code",
   "execution_count": null,
   "metadata": {},
   "outputs": [],
   "source": []
  },
  {
   "cell_type": "code",
   "execution_count": null,
   "metadata": {},
   "outputs": [],
   "source": [
    "# plot = sumCases.plot.pie(subplots=True, legend=None, startangle=90, fontsize=12,\n",
    "#                         autopct='%1.1f%%', figsize=(18.20,9.80))\n",
    "\n",
    "\n",
    "# plt.show()"
   ]
  },
  {
   "cell_type": "code",
   "execution_count": null,
   "metadata": {},
   "outputs": [],
   "source": []
  },
  {
   "cell_type": "code",
   "execution_count": null,
   "metadata": {},
   "outputs": [],
   "source": [
    "# sumCases.groupby(['location']).sum().plot(kind='pie', legend=None, subplots=True, fontsize=15, startangle=90,\n",
    "#                                        figsize=(19.20,10.80), autopct='%1.1f%%')\n",
    "# plt.show() \n"
   ]
  },
  {
   "cell_type": "code",
   "execution_count": null,
   "metadata": {},
   "outputs": [],
   "source": []
  }
 ],
 "metadata": {
  "kernelspec": {
   "display_name": "Python 3",
   "language": "python",
   "name": "python3"
  },
  "language_info": {
   "codemirror_mode": {
    "name": "ipython",
    "version": 3
   },
   "file_extension": ".py",
   "mimetype": "text/x-python",
   "name": "python",
   "nbconvert_exporter": "python",
   "pygments_lexer": "ipython3",
   "version": "3.6.10"
  }
 },
 "nbformat": 4,
 "nbformat_minor": 4
}
